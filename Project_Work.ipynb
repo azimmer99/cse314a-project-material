{
 "cells": [
  {
   "cell_type": "code",
   "execution_count": null,
   "id": "e6615f5c-cb1a-4d2a-bb07-01d9f0d122a7",
   "metadata": {},
   "outputs": [],
   "source": [
    "from pandasql import sqldf\n",
    "import pandas as pd\n",
    "pysqldf = lambda q: sqldf(q, globals())\n",
    "\n",
    "\n",
    "wr_data = pd.read_csv('wr_data.csv')\n",
    "rb_data = pd.read_csv('rb_data.csv')\n",
    "te_data = pd.read_csv('te_data.csv')\n",
    "qb_data = pd.read_csv('qb_data.csv')"
   ]
  },
  {
   "cell_type": "code",
   "execution_count": null,
   "id": "f556ac46-ec8a-44d6-9152-384f84aefb2e",
   "metadata": {},
   "outputs": [],
   "source": [
    "# Finding the percent that return value by conference to see if its better to draft from a specific conference\n",
    "# This cell is WRs, cell below is RBs\n",
    "\n",
    "pysqldf(\"\"\"\n",
    "SELECT \n",
    "    Conference,  \n",
    "    AVG(Returned_Value_Position) * 100 AS Avg_Returned_Value_Percentage\n",
    "FROM wr_data\n",
    "GROUP BY Conference\n",
    "\"\"\")"
   ]
  },
  {
   "cell_type": "code",
   "execution_count": null,
   "id": "78b0667a-caa9-468e-bb49-d626154fbac6",
   "metadata": {},
   "outputs": [],
   "source": [
    "pysqldf(\"\"\"\n",
    "SELECT \n",
    "    Conference,  \n",
    "    AVG(Returned_Value_Position) * 100 AS Avg_Returned_Value_Percentage\n",
    "FROM rb_data\n",
    "GROUP BY Conference\n",
    "\"\"\")"
   ]
  },
  {
   "cell_type": "code",
   "execution_count": null,
   "id": "a91dc6b2-951b-446b-8310-77bd048794d9",
   "metadata": {},
   "outputs": [],
   "source": [
    "# Finding the average difference between position adp and ending rank based on those who return value and those who dont\n",
    "# Essentially when they hit how much do they exceed expectations and when they miss how much do they miss expectations by\n",
    "# This cell is for WRs, cell below is RBs\n",
    "\n",
    "pysqldf(\"\"\"\n",
    "SELECT \n",
    "    CASE WHEN Returned_Value_Position = 1 THEN 'Returned Value' ELSE 'Did Not Return Value' END AS Return_Status,\n",
    "    AVG(Position_ADP - Positional_Rank) AS Avg_Positional_Difference\n",
    "FROM wr_data\n",
    "GROUP BY Return_Status;\n",
    "\"\"\")"
   ]
  },
  {
   "cell_type": "code",
   "execution_count": null,
   "id": "2a3c219c-6751-455f-a59b-0b41897bbbc8",
   "metadata": {},
   "outputs": [],
   "source": [
    "pysqldf(\"\"\"\n",
    "SELECT \n",
    "    CASE WHEN Returned_Value_Position = 1 THEN 'Returned Value' ELSE 'Did Not Return Value' END AS Return_Status,\n",
    "    AVG(Position_ADP - Positional_Rank) AS Avg_Positional_Difference\n",
    "FROM rb_data\n",
    "GROUP BY Return_Status;\n",
    "\"\"\")"
   ]
  },
  {
   "cell_type": "code",
   "execution_count": null,
   "id": "41c320b5-4677-4441-b97b-fe206f6d53cf",
   "metadata": {},
   "outputs": [],
   "source": [
    "# Finding the % that return value based on how good the situation they are going into is\n",
    "\n",
    "pysqldf(\"\"\"\n",
    "SELECT \n",
    "    CASE \n",
    "        WHEN Team_Drafted_to_Ws_Prev_Yr < 5 THEN 'Less than 5 Wins'\n",
    "        WHEN Team_Drafted_to_Ws_Prev_Yr BETWEEN 5 AND 10 THEN '5-10 Wins'\n",
    "        ELSE 'Over 10 Wins'\n",
    "    END AS Wins_Bucket,\n",
    "    AVG(Returned_Value_Position) * 100 AS Avg_Returned_Value_Percentage\n",
    "FROM wr_data\n",
    "GROUP BY Wins_Bucket\n",
    "\"\"\")"
   ]
  },
  {
   "cell_type": "code",
   "execution_count": null,
   "id": "c711cc0e-ba46-4d9f-a882-dfbccd73d012",
   "metadata": {},
   "outputs": [],
   "source": [
    "pysqldf(\"\"\"\n",
    "SELECT \n",
    "    CASE \n",
    "        WHEN Team_Drafted_to_Ws_Prev_Yr < 5 THEN 'Less than 5 Wins'\n",
    "        WHEN Team_Drafted_to_Ws_Prev_Yr BETWEEN 5 AND 10 THEN '5-10 Wins'\n",
    "        ELSE 'Over 10 Wins'\n",
    "    END AS Wins_Bucket,\n",
    "    AVG(Returned_Value_Position) * 100 AS Avg_Returned_Value_Percentage\n",
    "FROM rb_data\n",
    "GROUP BY Wins_Bucket\n",
    "\"\"\")"
   ]
  },
  {
   "cell_type": "code",
   "execution_count": null,
   "id": "1e035d2e-9ebc-439e-afcd-ab60727a2024",
   "metadata": {},
   "outputs": [],
   "source": [
    "# Grouping value returning by reciever yards\n",
    "\n",
    "pysqldf(\"\"\"\n",
    "SELECT \n",
    "    CASE \n",
    "        WHEN Yards < 500 THEN '<500 Yards'\n",
    "        WHEN Yards BETWEEN 500 AND 750 THEN '500-750 Yards'\n",
    "        WHEN Yards BETWEEN 750 AND 1000 THEN '750-1000 Yards'\n",
    "        WHEN Yards BETWEEN 1000 AND 1250 THEN '1000-1250 Yards'\n",
    "        WHEN Yards BETWEEN 1250 AND 1500 THEN '1250-1500 Yards'\n",
    "        ELSE '1500+ Yards'\n",
    "    END AS Yards_Bucket,\n",
    "    AVG(Returned_Value_Position) * 100 AS Avg_Returned_Value_Percentage\n",
    "FROM wr_data\n",
    "GROUP BY Yards_Bucket\n",
    "\"\"\")"
   ]
  },
  {
   "cell_type": "code",
   "execution_count": null,
   "id": "eaac11ea-be7a-48cb-87bc-00236a3f2ba0",
   "metadata": {},
   "outputs": [],
   "source": [
    "#OGI REPEAT ABOVE WITH BUCKETS THAT MAKE SENSE FOR RBS"
   ]
  },
  {
   "cell_type": "code",
   "execution_count": null,
   "id": "45c33934-7213-4f5b-be28-bee4cc3bf8d0",
   "metadata": {},
   "outputs": [],
   "source": [
    "#Grouping value returning by reciver tds\n",
    "\n",
    "pysqldf(\"\"\"\n",
    "SELECT \n",
    "    CASE \n",
    "        WHEN TDS BETWEEN 0 AND 5 THEN '0-5 TDs'\n",
    "        WHEN TDS BETWEEN 6 AND 10 THEN '6-10 TDs'\n",
    "        WHEN TDS BETWEEN 11 AND 15 THEN '11-15 TDs'\n",
    "        WHEN TDS BETWEEN 16 AND 20 THEN '16-20 TDs'\n",
    "        ELSE '20+ TDs'\n",
    "    END AS TDs_Bucket,\n",
    "    AVG(Returned_Value_Position) * 100 AS Avg_Returned_Value_Percentage\n",
    "FROM wr_data\n",
    "GROUP BY TDs_Bucket\n",
    "\"\"\")"
   ]
  },
  {
   "cell_type": "code",
   "execution_count": null,
   "id": "c18818a5-79e9-46ea-9098-066eb5f259cb",
   "metadata": {},
   "outputs": [],
   "source": [
    "#OGI REPEAT ABOVE WITH BUCKETS THAT MAKE SENSE FOR RBS"
   ]
  },
  {
   "cell_type": "code",
   "execution_count": null,
   "id": "fa7dc255-efaa-461e-a41d-8238ef8de983",
   "metadata": {},
   "outputs": [],
   "source": [
    "#Grouping by draft round\n",
    "\n",
    "pysqldf(\"\"\"\n",
    "SELECT \n",
    "    Draft_Round\n",
    "    AVG(Returned_Value_Position) * 100 AS Avg_Returned_Value_Percentage\n",
    "FROM wr_data\n",
    "GROUP BY Round\n",
    "\"\"\")"
   ]
  },
  {
   "cell_type": "code",
   "execution_count": null,
   "id": "578b7d74-2b9e-4c18-a70d-0b636c14ed67",
   "metadata": {},
   "outputs": [],
   "source": [
    "pysqldf(\"\"\"\n",
    "SELECT \n",
    "    Draft_Round\n",
    "    AVG(Returned_Value_Position) * 100 AS Avg_Returned_Value_Percentage\n",
    "FROM rb_data\n",
    "GROUP BY Round\n",
    "\"\"\")"
   ]
  },
  {
   "cell_type": "code",
   "execution_count": null,
   "id": "08b79e8e-84ad-4c86-8552-a416992e2c04",
   "metadata": {},
   "outputs": [],
   "source": [
    "#Finding the players who exceeded expectations, those who finished 25% above expectations\n",
    "\n",
    "pysqldf(\"\"\"\n",
    "SELECT *\n",
    "FROM wr_data\n",
    "WHERE Positional_Rank <= Position_ADP * 0.75;\n",
    "\"\"\")"
   ]
  },
  {
   "cell_type": "code",
   "execution_count": null,
   "id": "858b9908-07d3-46c8-be2b-adb15f6172e9",
   "metadata": {},
   "outputs": [],
   "source": [
    "pysqldf(\"\"\"\n",
    "SELECT *\n",
    "FROM rb_data\n",
    "WHERE Positional_Rank <= Position_ADP * 0.75;\n",
    "\"\"\")"
   ]
  },
  {
   "cell_type": "code",
   "execution_count": null,
   "id": "2abed502-bea0-4549-998c-842d4c00bd2b",
   "metadata": {},
   "outputs": [],
   "source": [
    "#Finding the players who REALLY exceeded expectations, those who finished 50% above expectations\n",
    "pysqldf(\"\"\"\n",
    "SELECT *\n",
    "FROM wr_data\n",
    "WHERE Positional_Rank <= Position_ADP * 0.5;\n",
    "\"\"\")"
   ]
  },
  {
   "cell_type": "code",
   "execution_count": null,
   "id": "bf5959f7-2d6b-40d6-8eb3-92f73956b4bb",
   "metadata": {},
   "outputs": [],
   "source": [
    "pysqldf(\"\"\"\n",
    "SELECT *\n",
    "FROM rb_data\n",
    "WHERE Positional_Rank <= Position_ADP * 0.5;\n",
    "\"\"\")"
   ]
  }
 ],
 "metadata": {
  "kernelspec": {
   "display_name": "Python 3 (ipykernel)",
   "language": "python",
   "name": "python3"
  },
  "language_info": {
   "codemirror_mode": {
    "name": "ipython",
    "version": 3
   },
   "file_extension": ".py",
   "mimetype": "text/x-python",
   "name": "python",
   "nbconvert_exporter": "python",
   "pygments_lexer": "ipython3",
   "version": "3.11.5"
  }
 },
 "nbformat": 4,
 "nbformat_minor": 5
}
